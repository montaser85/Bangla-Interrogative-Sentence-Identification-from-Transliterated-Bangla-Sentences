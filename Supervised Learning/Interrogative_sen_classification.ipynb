{
 "cells": [
  {
   "cell_type": "code",
   "execution_count": 1,
   "metadata": {
    "collapsed": true
   },
   "outputs": [],
   "source": [
    "# This file create and Vectorize and out result with training\n",
    "\n",
    "from sklearn.metrics import f1_score, confusion_matrix, accuracy_score\n",
    "from sklearn.feature_extraction.text import CountVectorizer\n",
    "from sklearn import svm\n",
    "from sklearn.linear_model import LogisticRegression\n",
    "from sklearn.neighbors import KNeighborsClassifier\n",
    "from sklearn.neural_network import MLPClassifier\n",
    "import numpy as np\n",
    "import time\n",
    "start_time = time.time()\n"
   ]
  },
  {
   "cell_type": "code",
   "execution_count": 2,
   "metadata": {
    "collapsed": true
   },
   "outputs": [],
   "source": [
    "def TrainX(vec):\n",
    "    fin = open(\"dataset.txt\", encoding=\"utf-8\")\n",
    "    corpus = []\n",
    "    text = fin.readline()\n",
    "\n",
    "    while text:\n",
    "        corpus.append(text.strip())\n",
    "        text = fin.readline()\n",
    "    fin.close()\n",
    "    print(len(corpus))\n",
    "    return vec.fit_transform(corpus)"
   ]
  },
  {
   "cell_type": "code",
   "execution_count": 3,
   "metadata": {
    "collapsed": true
   },
   "outputs": [],
   "source": [
    "def TrainY():\n",
    "    trainY = []\n",
    "    fin = open(\"result.txt\")\n",
    "\n",
    "    yval = fin.readline()\n",
    "    while yval:\n",
    "        trainY.append(int(yval))\n",
    "        yval = fin.readline()\n",
    "\n",
    "    return np.asarray(trainY)\n"
   ]
  },
  {
   "cell_type": "code",
   "execution_count": 4,
   "metadata": {
    "collapsed": true
   },
   "outputs": [],
   "source": [
    "def SVM(trainX,trainY,testX): #Support Vector Machine\n",
    "    model = svm.SVC(kernel=\"linear\")\n",
    "    model.fit(trainX, trainY)\n",
    "    result = []\n",
    "    for i in testX:\n",
    "        result.append(model.predict(i))\n",
    "\n",
    "    return np.asarray(result)"
   ]
  },
  {
   "cell_type": "code",
   "execution_count": 5,
   "metadata": {
    "collapsed": true
   },
   "outputs": [],
   "source": [
    "def LR(trainX, trainY, testX, testY):#Logistic Regression\n",
    "    clf = LogisticRegression(fit_intercept=True, C = 1e15)\n",
    "    clf.fit(trainX, trainY)\n",
    "\n",
    "    print ('Accuracy from logistic regression: {0}'.format(clf.score(testX, testY)))\n",
    "\n",
    "    print (clf.intercept_, clf.coef_)\n",
    "    # print (weights)"
   ]
  },
  {
   "cell_type": "code",
   "execution_count": 6,
   "metadata": {
    "collapsed": true
   },
   "outputs": [],
   "source": [
    "def KNC(trainX, trainY, testX, testY): #K Neighbors Classifier\n",
    "    knn = KNeighborsClassifier(algorithm='auto', leaf_size=30, metric='minkowski',\n",
    "           metric_params=None, n_jobs=1, n_neighbors=1, p=2,\n",
    "           weights='distance')\n",
    "    knn.fit(trainX, trainY)\n",
    "    # print(knn.predict(testX))\n",
    "    print(knn.predict_proba(testX))\n",
    "#    print(knn.predict_proba(data)[:, 1])\n",
    "    print('accuracy for KNN:{0}'.format(knn.score(testX, testY)))"
   ]
  },
  {
   "cell_type": "code",
   "execution_count": 7,
   "metadata": {
    "collapsed": true
   },
   "outputs": [],
   "source": [
    "def MLP(trainX, trainY, testX, testY): #Multi Layer Perceptron\n",
    "    clf = MLPClassifier(solver='lbfgs', alpha=1e-5, hidden_layer_sizes=(12, ), random_state=1)\n",
    "    clf.fit(trainX, trainY)\n",
    "    clf.predict(testX)\n",
    "    print(clf.predict_proba(testX))\n",
    "    print('accuracy for MLP:{0}'.format(clf.score(testX, testY)))"
   ]
  },
  {
   "cell_type": "code",
   "execution_count": 8,
   "metadata": {},
   "outputs": [
    {
     "name": "stdout",
     "output_type": "stream",
     "text": [
      "3677\n",
      "(3677, 36133)\n",
      "Accuracy =  0.96261682243\n",
      "--- 2.07079815864563 seconds ---\n",
      "Accuracy from logistic regression: 0.9643160577740016\n",
      "[-5.06890717] [[-0.02086492 -0.02086492 -0.02086492 ..., -0.13848112 -0.13848112\n",
      "  -0.13848112]]\n",
      "--- 2.115783929824829 seconds ---\n",
      "[[ 1.  0.]\n",
      " [ 1.  0.]\n",
      " [ 1.  0.]\n",
      " ..., \n",
      " [ 1.  0.]\n",
      " [ 1.  0.]\n",
      " [ 1.  0.]]\n",
      "accuracy for KNN:0.7714528462192014\n",
      "--- 2.218836784362793 seconds ---\n",
      "[[  9.99972604e-01   2.73959077e-05]\n",
      " [  9.99997270e-01   2.73041953e-06]\n",
      " [  1.55431223e-15   1.00000000e+00]\n",
      " ..., \n",
      " [  4.05357853e-05   9.99959464e-01]\n",
      " [  9.99999795e-01   2.05095989e-07]\n",
      " [  9.99999941e-01   5.90911331e-08]]\n",
      "accuracy for MLP:0.9634664401019541\n",
      "--- 8.738821506500244 seconds ---\n"
     ]
    }
   ],
   "source": [
    "if __name__ == '__main__':\n",
    "    vec = CountVectorizer(tokenizer=lambda x: x.split(),ngram_range=(1,4) )\n",
    "    dataX = TrainX(vec)\n",
    "    dataY = TrainY()\n",
    "\n",
    "   # print(dataX.shape)\n",
    "    x = dataX[:2500]\n",
    "    y = dataY[:2500]\n",
    "    tx = dataX[2500:]\n",
    "    ty = dataY[2500:]\n",
    "\n",
    "    predictedResult = SVM(x,y,tx)\n",
    "\n",
    "    #print(f1_score(ty,predictedResult))\n",
    "\n",
    "    cm = confusion_matrix(ty,predictedResult)\n",
    "    accu = accuracy_score(ty,predictedResult)\n",
    "\n",
    "   # print(cm)\n",
    "    print(\"Accuracy = \", accu)\n",
    "    print(\"--- %s seconds ---\" % (time.time() - start_time))\n",
    "\n",
    "    predict2= LR(x, y, tx, ty)\n",
    "\n",
    "    print(\"--- %s seconds ---\" % (time.time() - start_time))\n",
    "    \n",
    "    KNC(x, y, tx, ty)\n",
    "    print(\"--- %s seconds ---\" % (time.time() - start_time))\n",
    "\n",
    "    MLP(x, y, tx, ty)\n",
    "    print(\"--- %s seconds ---\" % (time.time() - start_time))"
   ]
  },
  {
   "cell_type": "code",
   "execution_count": null,
   "metadata": {
    "collapsed": true
   },
   "outputs": [],
   "source": []
  }
 ],
 "metadata": {
  "kernelspec": {
   "display_name": "Python 3",
   "language": "python",
   "name": "python3"
  },
  "language_info": {
   "codemirror_mode": {
    "name": "ipython",
    "version": 3
   },
   "file_extension": ".py",
   "mimetype": "text/x-python",
   "name": "python",
   "nbconvert_exporter": "python",
   "pygments_lexer": "ipython3",
   "version": "3.6.3"
  }
 },
 "nbformat": 4,
 "nbformat_minor": 2
}
