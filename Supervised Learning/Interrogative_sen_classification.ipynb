{
 "cells": [
  {
   "cell_type": "code",
   "execution_count": 10,
   "metadata": {
    "collapsed": true
   },
   "outputs": [],
   "source": [
    "# This file create and Vectorize and out result with training\n",
    "\n",
    "from sklearn.metrics import f1_score, confusion_matrix, accuracy_score\n",
    "from sklearn.feature_extraction.text import CountVectorizer\n",
    "from sklearn import svm\n",
    "from sklearn.linear_model import LogisticRegression\n",
    "from sklearn.neighbors import KNeighborsClassifier\n",
    "from sklearn.neural_network import MLPClassifier\n",
    "from sklearn.naive_bayes import GaussianNB\n",
    "from sklearn.metrics import accuracy_score \n",
    "import numpy as np\n",
    "import time\n",
    "start_time = time.time()\n"
   ]
  },
  {
   "cell_type": "code",
   "execution_count": 11,
   "metadata": {
    "collapsed": true
   },
   "outputs": [],
   "source": [
    "def TrainX(vec):\n",
    "    fin = open(\"dataset.txt\", encoding=\"utf-8\")\n",
    "    corpus = []\n",
    "    text = fin.readline()\n",
    "\n",
    "    while text:\n",
    "        corpus.append(text.strip())\n",
    "        text = fin.readline()\n",
    "    fin.close()\n",
    "    print(len(corpus))\n",
    "    return vec.fit_transform(corpus)"
   ]
  },
  {
   "cell_type": "code",
   "execution_count": 12,
   "metadata": {
    "collapsed": true
   },
   "outputs": [],
   "source": [
    "def TrainY():\n",
    "    trainY = []\n",
    "    fin = open(\"result.txt\")\n",
    "\n",
    "    yval = fin.readline()\n",
    "    while yval:\n",
    "        trainY.append(int(yval))\n",
    "        yval = fin.readline()\n",
    "\n",
    "    return np.asarray(trainY)\n"
   ]
  },
  {
   "cell_type": "code",
   "execution_count": 13,
   "metadata": {
    "collapsed": true
   },
   "outputs": [],
   "source": [
    "def SVM(trainX,trainY,testX): #Support Vector Machine\n",
    "    model = svm.SVC(C=1.0,kernel=\"linear\")\n",
    "    model.fit(trainX, trainY)\n",
    "    result = []\n",
    "    for i in testX:\n",
    "        result.append(model.predict(i))\n",
    "\n",
    "    return np.asarray(result)"
   ]
  },
  {
   "cell_type": "code",
   "execution_count": 14,
   "metadata": {
    "collapsed": true
   },
   "outputs": [],
   "source": [
    "def LR(trainX, trainY, testX, testY):#Logistic Regression\n",
    "    clf = LogisticRegression(fit_intercept=True, C = 1e15)\n",
    "    clf.fit(trainX, trainY)\n",
    "\n",
    "    print ('Accuracy from logistic regression: {0}'.format(clf.score(testX, testY)))\n",
    "\n",
    "    print (clf.intercept_, clf.coef_)\n",
    "    # print (weights)"
   ]
  },
  {
   "cell_type": "code",
   "execution_count": 15,
   "metadata": {
    "collapsed": true
   },
   "outputs": [],
   "source": [
    "def KNC(trainX, trainY, testX, testY): #K Neighbors Classifier\n",
    "    knn = KNeighborsClassifier(algorithm='auto', leaf_size=50, metric='minkowski',\n",
    "           metric_params=None, n_jobs=1, n_neighbors=3, p=2,\n",
    "           weights='distance')\n",
    "    knn.fit(trainX, trainY)\n",
    "    # print(knn.predict(testX))\n",
    "    print(knn.predict_proba(testX))\n",
    "#    print(knn.predict_proba(data)[:, 1])\n",
    "    print('accuracy for KNN:{0}'.format(knn.score(testX, testY)))"
   ]
  },
  {
   "cell_type": "code",
   "execution_count": 16,
   "metadata": {
    "collapsed": true
   },
   "outputs": [],
   "source": [
    "def MLP(trainX, trainY, testX, testY): #Multi Layer Perceptron\n",
    "    clf = MLPClassifier(solver='lbfgs', alpha=1e-5, hidden_layer_sizes=(20, ), random_state=1)\n",
    "    clf.fit(trainX, trainY)\n",
    "    clf.predict(testX)\n",
    "    print(clf.predict_proba(testX))\n",
    "    print('accuracy for MLP:{0}'.format(clf.score(testX, testY)))"
   ]
  },
  {
   "cell_type": "markdown",
   "metadata": {},
   "source": [
    "def GNB(trainX, trainY, testX, testY):\n",
    "    clf=GaussianNB()\n",
    "    clf.fit(trainX, trainY)\n",
    "    clf.predict(testX)\n",
    "    accuracy=accuracy_score(pred,testY)\n",
    "    print('accuracy for GNB:\",accuracy)"
   ]
  },
  {
   "cell_type": "code",
   "execution_count": 17,
   "metadata": {
    "scrolled": true
   },
   "outputs": [
    {
     "name": "stdout",
     "output_type": "stream",
     "text": [
      "11790\n",
      "Accuracy from SVM =  0.825167670797\n",
      "--- 21.176723957061768 seconds ---\n",
      "Accuracy from logistic regression: 0.7982266681823349\n",
      "[-0.90132615] [[ 0.  0.  0. ...,  0.  0.  0.]]\n",
      "--- 21.504083395004272 seconds ---\n",
      "[[ 1.  0.]\n",
      " [ 1.  0.]\n",
      " [ 1.  0.]\n",
      " ..., \n",
      " [ 1.  0.]\n",
      " [ 1.  0.]\n",
      " [ 1.  0.]]\n",
      "accuracy for KNN:0.8058429009889735\n",
      "--- 23.142372369766235 seconds ---\n",
      "[[  2.69897076e-03   9.97301029e-01]\n",
      " [  2.45071977e-01   7.54928023e-01]\n",
      " [  9.99896587e-01   1.03412693e-04]\n",
      " ..., \n",
      " [  6.38865554e-01   3.61134446e-01]\n",
      " [  6.33890846e-01   3.66109154e-01]\n",
      " [  1.25937039e-10   1.00000000e+00]]\n",
      "accuracy for MLP:0.7731044674320792\n",
      "--- 38.88144564628601 seconds ---\n"
     ]
    }
   ],
   "source": [
    "if __name__ == '__main__':\n",
    "    vec = CountVectorizer(tokenizer=lambda x: x.split(),ngram_range=(1,4) )\n",
    "    dataX = TrainX(vec)\n",
    "    dataY = TrainY()\n",
    "\n",
    "   # print(dataX.shape)\n",
    "    #x = dataX[8797:]\n",
    "    #y = dataY[8797:]\n",
    "    #tx = dataX[:3797]\n",
    "    #ty = dataY[:3797]\n",
    "    \n",
    "    x = dataX[8797:]\n",
    "    y = dataY[8797:]\n",
    "    tx = dataX[:8797]\n",
    "    ty = dataY[:8797]\n",
    "\n",
    "    predictedResult = SVM(x,y,tx)\n",
    "\n",
    "    #print(f1_score(ty,predictedResult))\n",
    "\n",
    "    cm = confusion_matrix(ty,predictedResult)\n",
    "    accu = accuracy_score(ty,predictedResult)\n",
    "\n",
    "   # print(cm)\n",
    "    print(\"Accuracy from SVM = \", accu)\n",
    "    print(\"--- %s seconds ---\" % (time.time() - start_time))\n",
    "\n",
    "    predict2= LR(x, y, tx, ty)\n",
    "\n",
    "    print(\"--- %s seconds ---\" % (time.time() - start_time))\n",
    "    \n",
    "    KNC(x, y, tx, ty)\n",
    "    print(\"--- %s seconds ---\" % (time.time() - start_time))\n",
    "    \n",
    "    MLP(x, y, tx, ty)\n",
    "    print(\"--- %s seconds ---\" % (time.time() - start_time))"
   ]
  },
  {
   "cell_type": "code",
   "execution_count": null,
   "metadata": {
    "collapsed": true
   },
   "outputs": [],
   "source": []
  },
  {
   "cell_type": "code",
   "execution_count": null,
   "metadata": {
    "collapsed": true
   },
   "outputs": [],
   "source": []
  }
 ],
 "metadata": {
  "kernelspec": {
   "display_name": "Python 3",
   "language": "python",
   "name": "python3"
  },
  "language_info": {
   "codemirror_mode": {
    "name": "ipython",
    "version": 3
   },
   "file_extension": ".py",
   "mimetype": "text/x-python",
   "name": "python",
   "nbconvert_exporter": "python",
   "pygments_lexer": "ipython3",
   "version": "3.6.3"
  }
 },
 "nbformat": 4,
 "nbformat_minor": 2
}
